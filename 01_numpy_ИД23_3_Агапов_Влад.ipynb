{
  "cells": [
    {
      "cell_type": "markdown",
      "metadata": {
        "id": "oFb3LFtMxKfr"
      },
      "source": [
        "# Numpy"
      ]
    },
    {
      "cell_type": "markdown",
      "metadata": {
        "id": "-3Kz57GAxKfu"
      },
      "source": [
        "Материалы:\n",
        "* Макрушин С.В. \"Лекция 1: Библиотека Numpy\"\n",
        "* https://numpy.org/doc/stable/user/index.html\n",
        "* https://numpy.org/doc/stable/reference/index.html"
      ]
    },
    {
      "cell_type": "markdown",
      "metadata": {
        "id": "BJkPQafbxKfv"
      },
      "source": [
        "## Задачи для совместного разбора"
      ]
    },
    {
      "cell_type": "markdown",
      "metadata": {
        "id": "9aKK3kp5xKfv"
      },
      "source": [
        "1. Сгенерировать двухмерный массив `arr` размерности (4, 7), состоящий из случайных действительных чисел, равномерно распределенных в диапазоне от 0 до 20. Нормализовать значения массива с помощью преобразования вида  $𝑎𝑥+𝑏$  так, что после нормализации максимальный элемент масcива будет равен 1.0, минимальный 0.0"
      ]
    },
    {
      "cell_type": "code",
      "execution_count": null,
      "metadata": {
        "colab": {
          "base_uri": "https://localhost:8080/"
        },
        "id": "tCpb6BvxxKfw",
        "outputId": "5ec2fffc-0eb9-4b25-f9cd-7c35e741f9d6"
      },
      "outputs": [
        {
          "output_type": "stream",
          "name": "stdout",
          "text": [
            "[[0.2378784  0.87444669 0.01647786 0.29745975 0.         0.95081968\n",
            "  0.3202982 ]\n",
            " [0.1336109  0.08320149 0.69632854 0.90415879 0.53431656 0.81966232\n",
            "  1.        ]\n",
            " [0.51421538 0.17691386 0.96769113 0.81544623 0.9219134  0.23429438\n",
            "  0.26957772]\n",
            " [0.93849515 0.25648751 0.82876472 0.47652702 0.94524055 0.88079031\n",
            "  0.14073347]]\n"
          ]
        }
      ],
      "source": [
        "import numpy as np\n",
        "\n",
        "arr = np.random.uniform(low=0, high=20, size=(4, 7))\n",
        "\n",
        "min_val = np.min(arr)\n",
        "max_val = np.max(arr)\n",
        "\n",
        "a = 1.0 / (max_val - min_val)\n",
        "b = -min_val * a\n",
        "\n",
        "normalized_arr = a * arr + b\n",
        "print(normalized_arr)"
      ]
    },
    {
      "cell_type": "markdown",
      "metadata": {
        "id": "TtU83fHJxKfw"
      },
      "source": [
        "2. Создать матрицу 8 на 10 из случайных целых (используя модуль `numpy.random`) чисел из диапозона от 0 до 10 и найти в ней строку (ее индекс и вывести саму строку), в которой сумма значений минимальна."
      ]
    },
    {
      "cell_type": "code",
      "source": [
        "import numpy as np\n",
        "\n",
        "matrix = np.random.randint(0, 11, size=(8, 10)) #создаём матрицу размером 8x10\n",
        "\n",
        "min_sum_index = np.argmin(np.sum(matrix, axis=1)) #с помощью метода построчно ищем минимальную сумму и выводим запоминаем строку и ее индекс\n",
        "\n",
        "print(\"Пример матрицы:\")\n",
        "print(matrix)\n",
        "print(\"Ответ:\")\n",
        "print(\"индекс: \", min_sum_index)\n",
        "print(\"строка: \", matrix[min_sum_index])"
      ],
      "metadata": {
        "colab": {
          "base_uri": "https://localhost:8080/"
        },
        "id": "7Yi6P2mhykh3",
        "outputId": "359f8e1b-4a5d-424d-b0ce-8937230961f2"
      },
      "execution_count": null,
      "outputs": [
        {
          "output_type": "stream",
          "name": "stdout",
          "text": [
            "Пример матрицы:\n",
            "[[10  8  5  0  9  0  7  5  3  5]\n",
            " [ 5  7  7 10  0  7  7  7  6 10]\n",
            " [ 4  3  6  0  6  5  0  8 10 10]\n",
            " [ 9  6  3  3  8  8  4  8 10  9]\n",
            " [ 8  7  0 10  3  3 10  2 10  2]\n",
            " [ 5  4  1  4  5  4  4  0  4  9]\n",
            " [ 8  1  9  6  9  4  5  5  1  0]\n",
            " [ 8  4  5  3  3  4  9  0  9  6]]\n",
            "Ответ:\n",
            "индекс:  5\n",
            "строка:  [5 4 1 4 5 4 4 0 4 9]\n"
          ]
        }
      ]
    },
    {
      "cell_type": "markdown",
      "metadata": {
        "id": "-AU13SVxxKfw"
      },
      "source": [
        "3. Найти евклидово расстояние между двумя одномерными векторами одинаковой размерности."
      ]
    },
    {
      "cell_type": "code",
      "source": [
        "import numpy as np\n",
        "\n",
        "v1 = np.array([1, 2, 3])\n",
        "v2 = np.array([4, 5, 6])\n",
        "\n",
        "euclidean_distance = np.linalg.norm(v1 - v2)\n",
        "\n",
        "print(euclidean_distance)"
      ],
      "metadata": {
        "colab": {
          "base_uri": "https://localhost:8080/"
        },
        "id": "FiXpTJljzg-s",
        "outputId": "457c819d-382b-43d2-db77-34f6aa263fe2"
      },
      "execution_count": null,
      "outputs": [
        {
          "output_type": "stream",
          "name": "stdout",
          "text": [
            "5.196152422706632\n"
          ]
        }
      ]
    },
    {
      "cell_type": "markdown",
      "metadata": {
        "id": "LxTpzaTIxKfx"
      },
      "source": [
        "4. Решить матричное уравнение `A*X*B=-C` - найти матрицу `X`. Где `A = [[-1, 2, 4], [-3, 1, 2], [-3, 0, 1]]`, `B=[[3, -1], [2, 1]]`, `C=[[7, 21], [11, 8], [8, 4]]`."
      ]
    },
    {
      "cell_type": "code",
      "source": [
        "import numpy as np\n",
        "\n",
        "A = np.array([[-1, 2, 4], [-3, 1, 2], [-3, 0, 1]])\n",
        "B = np.array([[3, -1], [2, 1]])\n",
        "C = np.array([[7, 21], [11, 8], [8, 4]])\n",
        "\n",
        "X = np.linalg.solve(A, -np.dot(C, np.linalg.inv(B)))\n",
        "\n",
        "print(X)\n"
      ],
      "metadata": {
        "colab": {
          "base_uri": "https://localhost:8080/",
          "height": 176
        },
        "id": "jc__aFMS0bgt",
        "outputId": "5eed2967-2426-41a3-ca54-05f30cea4162"
      },
      "execution_count": null,
      "outputs": [
        {
          "output_type": "error",
          "ename": "TypeError",
          "evalue": "'dtype' is an invalid keyword argument for print()",
          "traceback": [
            "\u001b[0;31m---------------------------------------------------------------------------\u001b[0m",
            "\u001b[0;31mTypeError\u001b[0m                                 Traceback (most recent call last)",
            "\u001b[0;32m<ipython-input-121-64a100d0f563>\u001b[0m in \u001b[0;36m<cell line: 9>\u001b[0;34m()\u001b[0m\n\u001b[1;32m      7\u001b[0m \u001b[0mX\u001b[0m \u001b[0;34m=\u001b[0m \u001b[0mnp\u001b[0m\u001b[0;34m.\u001b[0m\u001b[0mlinalg\u001b[0m\u001b[0;34m.\u001b[0m\u001b[0msolve\u001b[0m\u001b[0;34m(\u001b[0m\u001b[0mA\u001b[0m\u001b[0;34m,\u001b[0m \u001b[0;34m-\u001b[0m\u001b[0mnp\u001b[0m\u001b[0;34m.\u001b[0m\u001b[0mdot\u001b[0m\u001b[0;34m(\u001b[0m\u001b[0mC\u001b[0m\u001b[0;34m,\u001b[0m \u001b[0mnp\u001b[0m\u001b[0;34m.\u001b[0m\u001b[0mlinalg\u001b[0m\u001b[0;34m.\u001b[0m\u001b[0minv\u001b[0m\u001b[0;34m(\u001b[0m\u001b[0mB\u001b[0m\u001b[0;34m)\u001b[0m\u001b[0;34m)\u001b[0m\u001b[0;34m)\u001b[0m\u001b[0;34m\u001b[0m\u001b[0;34m\u001b[0m\u001b[0m\n\u001b[1;32m      8\u001b[0m \u001b[0;34m\u001b[0m\u001b[0m\n\u001b[0;32m----> 9\u001b[0;31m \u001b[0mprint\u001b[0m\u001b[0;34m(\u001b[0m\u001b[0mX\u001b[0m\u001b[0;34m,\u001b[0m \u001b[0mdtype\u001b[0m\u001b[0;34m=\u001b[0m\u001b[0mint\u001b[0m\u001b[0;34m)\u001b[0m\u001b[0;34m\u001b[0m\u001b[0;34m\u001b[0m\u001b[0m\n\u001b[0m",
            "\u001b[0;31mTypeError\u001b[0m: 'dtype' is an invalid keyword argument for print()"
          ]
        }
      ]
    },
    {
      "cell_type": "markdown",
      "metadata": {
        "id": "-nW8JNaVxKfx"
      },
      "source": [
        "## Лабораторная работа №1"
      ]
    },
    {
      "cell_type": "markdown",
      "metadata": {
        "id": "bkJpf28xxKfx"
      },
      "source": [
        "Замечание: при решении данных задач не подразумевается использования циклов или генераторов Python, если в задании не сказано обратного. Решение должно опираться на использования функционала библиотеки `numpy`."
      ]
    },
    {
      "cell_type": "markdown",
      "metadata": {
        "id": "GLaMol5XxKfx"
      },
      "source": [
        "1. Файл `minutes_n_ingredients.csv` содержит информацию об идентификаторе рецепта, времени его выполнения в минутах и количестве необходимых ингредиентов. Считайте данные из этого файла в виде массива `numpy` типа `int32`, используя `np.loadtxt`. Выведите на экран первые 5 строк массива."
      ]
    },
    {
      "cell_type": "code",
      "source": [
        "import numpy as np\n",
        "from google.colab import files\n",
        "\n",
        "uploaded = files.upload()\n",
        "\n",
        "data = np.loadtxt('minutes_n_ingredients.csv', delimiter=',', skiprows = 1, dtype=np.int32)\n",
        "\n",
        "print(data[:5])"
      ],
      "metadata": {
        "colab": {
          "base_uri": "https://localhost:8080/",
          "height": 160
        },
        "id": "TLBoK1N907Kj",
        "outputId": "39a8c0db-43cd-4bc9-e8d7-8c1ac614945f"
      },
      "execution_count": null,
      "outputs": [
        {
          "output_type": "display_data",
          "data": {
            "text/plain": [
              "<IPython.core.display.HTML object>"
            ],
            "text/html": [
              "\n",
              "     <input type=\"file\" id=\"files-4f7d0cc2-ff61-4a7b-a2f6-693fde936e15\" name=\"files[]\" multiple disabled\n",
              "        style=\"border:none\" />\n",
              "     <output id=\"result-4f7d0cc2-ff61-4a7b-a2f6-693fde936e15\">\n",
              "      Upload widget is only available when the cell has been executed in the\n",
              "      current browser session. Please rerun this cell to enable.\n",
              "      </output>\n",
              "      <script>// Copyright 2017 Google LLC\n",
              "//\n",
              "// Licensed under the Apache License, Version 2.0 (the \"License\");\n",
              "// you may not use this file except in compliance with the License.\n",
              "// You may obtain a copy of the License at\n",
              "//\n",
              "//      http://www.apache.org/licenses/LICENSE-2.0\n",
              "//\n",
              "// Unless required by applicable law or agreed to in writing, software\n",
              "// distributed under the License is distributed on an \"AS IS\" BASIS,\n",
              "// WITHOUT WARRANTIES OR CONDITIONS OF ANY KIND, either express or implied.\n",
              "// See the License for the specific language governing permissions and\n",
              "// limitations under the License.\n",
              "\n",
              "/**\n",
              " * @fileoverview Helpers for google.colab Python module.\n",
              " */\n",
              "(function(scope) {\n",
              "function span(text, styleAttributes = {}) {\n",
              "  const element = document.createElement('span');\n",
              "  element.textContent = text;\n",
              "  for (const key of Object.keys(styleAttributes)) {\n",
              "    element.style[key] = styleAttributes[key];\n",
              "  }\n",
              "  return element;\n",
              "}\n",
              "\n",
              "// Max number of bytes which will be uploaded at a time.\n",
              "const MAX_PAYLOAD_SIZE = 100 * 1024;\n",
              "\n",
              "function _uploadFiles(inputId, outputId) {\n",
              "  const steps = uploadFilesStep(inputId, outputId);\n",
              "  const outputElement = document.getElementById(outputId);\n",
              "  // Cache steps on the outputElement to make it available for the next call\n",
              "  // to uploadFilesContinue from Python.\n",
              "  outputElement.steps = steps;\n",
              "\n",
              "  return _uploadFilesContinue(outputId);\n",
              "}\n",
              "\n",
              "// This is roughly an async generator (not supported in the browser yet),\n",
              "// where there are multiple asynchronous steps and the Python side is going\n",
              "// to poll for completion of each step.\n",
              "// This uses a Promise to block the python side on completion of each step,\n",
              "// then passes the result of the previous step as the input to the next step.\n",
              "function _uploadFilesContinue(outputId) {\n",
              "  const outputElement = document.getElementById(outputId);\n",
              "  const steps = outputElement.steps;\n",
              "\n",
              "  const next = steps.next(outputElement.lastPromiseValue);\n",
              "  return Promise.resolve(next.value.promise).then((value) => {\n",
              "    // Cache the last promise value to make it available to the next\n",
              "    // step of the generator.\n",
              "    outputElement.lastPromiseValue = value;\n",
              "    return next.value.response;\n",
              "  });\n",
              "}\n",
              "\n",
              "/**\n",
              " * Generator function which is called between each async step of the upload\n",
              " * process.\n",
              " * @param {string} inputId Element ID of the input file picker element.\n",
              " * @param {string} outputId Element ID of the output display.\n",
              " * @return {!Iterable<!Object>} Iterable of next steps.\n",
              " */\n",
              "function* uploadFilesStep(inputId, outputId) {\n",
              "  const inputElement = document.getElementById(inputId);\n",
              "  inputElement.disabled = false;\n",
              "\n",
              "  const outputElement = document.getElementById(outputId);\n",
              "  outputElement.innerHTML = '';\n",
              "\n",
              "  const pickedPromise = new Promise((resolve) => {\n",
              "    inputElement.addEventListener('change', (e) => {\n",
              "      resolve(e.target.files);\n",
              "    });\n",
              "  });\n",
              "\n",
              "  const cancel = document.createElement('button');\n",
              "  inputElement.parentElement.appendChild(cancel);\n",
              "  cancel.textContent = 'Cancel upload';\n",
              "  const cancelPromise = new Promise((resolve) => {\n",
              "    cancel.onclick = () => {\n",
              "      resolve(null);\n",
              "    };\n",
              "  });\n",
              "\n",
              "  // Wait for the user to pick the files.\n",
              "  const files = yield {\n",
              "    promise: Promise.race([pickedPromise, cancelPromise]),\n",
              "    response: {\n",
              "      action: 'starting',\n",
              "    }\n",
              "  };\n",
              "\n",
              "  cancel.remove();\n",
              "\n",
              "  // Disable the input element since further picks are not allowed.\n",
              "  inputElement.disabled = true;\n",
              "\n",
              "  if (!files) {\n",
              "    return {\n",
              "      response: {\n",
              "        action: 'complete',\n",
              "      }\n",
              "    };\n",
              "  }\n",
              "\n",
              "  for (const file of files) {\n",
              "    const li = document.createElement('li');\n",
              "    li.append(span(file.name, {fontWeight: 'bold'}));\n",
              "    li.append(span(\n",
              "        `(${file.type || 'n/a'}) - ${file.size} bytes, ` +\n",
              "        `last modified: ${\n",
              "            file.lastModifiedDate ? file.lastModifiedDate.toLocaleDateString() :\n",
              "                                    'n/a'} - `));\n",
              "    const percent = span('0% done');\n",
              "    li.appendChild(percent);\n",
              "\n",
              "    outputElement.appendChild(li);\n",
              "\n",
              "    const fileDataPromise = new Promise((resolve) => {\n",
              "      const reader = new FileReader();\n",
              "      reader.onload = (e) => {\n",
              "        resolve(e.target.result);\n",
              "      };\n",
              "      reader.readAsArrayBuffer(file);\n",
              "    });\n",
              "    // Wait for the data to be ready.\n",
              "    let fileData = yield {\n",
              "      promise: fileDataPromise,\n",
              "      response: {\n",
              "        action: 'continue',\n",
              "      }\n",
              "    };\n",
              "\n",
              "    // Use a chunked sending to avoid message size limits. See b/62115660.\n",
              "    let position = 0;\n",
              "    do {\n",
              "      const length = Math.min(fileData.byteLength - position, MAX_PAYLOAD_SIZE);\n",
              "      const chunk = new Uint8Array(fileData, position, length);\n",
              "      position += length;\n",
              "\n",
              "      const base64 = btoa(String.fromCharCode.apply(null, chunk));\n",
              "      yield {\n",
              "        response: {\n",
              "          action: 'append',\n",
              "          file: file.name,\n",
              "          data: base64,\n",
              "        },\n",
              "      };\n",
              "\n",
              "      let percentDone = fileData.byteLength === 0 ?\n",
              "          100 :\n",
              "          Math.round((position / fileData.byteLength) * 100);\n",
              "      percent.textContent = `${percentDone}% done`;\n",
              "\n",
              "    } while (position < fileData.byteLength);\n",
              "  }\n",
              "\n",
              "  // All done.\n",
              "  yield {\n",
              "    response: {\n",
              "      action: 'complete',\n",
              "    }\n",
              "  };\n",
              "}\n",
              "\n",
              "scope.google = scope.google || {};\n",
              "scope.google.colab = scope.google.colab || {};\n",
              "scope.google.colab._files = {\n",
              "  _uploadFiles,\n",
              "  _uploadFilesContinue,\n",
              "};\n",
              "})(self);\n",
              "</script> "
            ]
          },
          "metadata": {}
        },
        {
          "output_type": "stream",
          "name": "stdout",
          "text": [
            "Saving minutes_n_ingredients.csv to minutes_n_ingredients (9).csv\n",
            "[[127244     60     16]\n",
            " [ 23891     25      7]\n",
            " [ 94746     10      6]\n",
            " [ 67660      5      6]\n",
            " [157911     60     14]]\n"
          ]
        }
      ]
    },
    {
      "cell_type": "markdown",
      "metadata": {
        "id": "i0vNDKN9xKfy"
      },
      "source": [
        "2. Вычислите среднее значение, минимум, максимум и медиану по каждому из столбцов, кроме первого."
      ]
    },
    {
      "cell_type": "code",
      "source": [
        "\"\"\"mean_values = np.mean(data[:, 1:], axis = 0)\n",
        "min_values = np.min(data[:, 1:], axis = 0)\n",
        "max_values = np.max(data[:, 1:], axis = 0)\n",
        "median_values = np.median(data[:, 1:], axis = 0)\n",
        "\n",
        "print(mean_values)\n",
        "print(min_values)\n",
        "print(max_values)\n",
        "print(median_values)\"\"\"\n",
        "arr = data[:, 1:]\n",
        "min_first = min(data[:,1])\n",
        "min_second = min(data[:, 2])\n",
        "max_first = max(data[:,1])\n",
        "max_second = max(data[:, 2])\n",
        "median_minutes = np.median(data[:, 1])\n",
        "median_ingredients = np.median(data[:, 2])\n",
        "mean_minutes = np.mean(data[:,1])\n",
        "mean_ingredients = np.mean(data[:, 2])\n",
        "print(\"среднее значение: \", mean_minutes, mean_ingredients)\n",
        "print(\"минимальное :\", [min_first, min_second])\n",
        "print(\"максимальное :\", [max_first, max_second])\n",
        "print(\"медиана \", median_minutes, median_ingredients)"
      ],
      "metadata": {
        "colab": {
          "base_uri": "https://localhost:8080/"
        },
        "id": "RT6f3-G52D34",
        "outputId": "d3f96c28-5b51-4474-e9b3-d310933d55a7"
      },
      "execution_count": null,
      "outputs": [
        {
          "output_type": "stream",
          "name": "stdout",
          "text": [
            "среднее значение:  39.11163 9.05528\n",
            "минимальное : [1, 1]\n",
            "максимальное : [65, 39]\n",
            "медиана  40.0 9.0\n"
          ]
        }
      ]
    },
    {
      "cell_type": "markdown",
      "metadata": {
        "id": "OoVyDE3TxKfy"
      },
      "source": [
        "3. Ограничьте сверху значения продолжительности выполнения рецепта значением квантиля $q_{0.75}$."
      ]
    },
    {
      "cell_type": "code",
      "source": [
        "quint = np.array(np.quantile(data[:, 1], 0.75, axis=0), dtype=int)\n",
        "print(quint)"
      ],
      "metadata": {
        "colab": {
          "base_uri": "https://localhost:8080/"
        },
        "id": "ftbdKMns2mh_",
        "outputId": "1be74f6b-c8f1-49e0-c2b4-aa5f320a64e8"
      },
      "execution_count": null,
      "outputs": [
        {
          "output_type": "stream",
          "name": "stdout",
          "text": [
            "65\n"
          ]
        }
      ]
    },
    {
      "cell_type": "markdown",
      "metadata": {
        "id": "JoxB9hkpxKfy"
      },
      "source": [
        "4. Посчитайте, для скольких рецептов указана продолжительность, равная нулю. Замените для таких строк значение в данном столбце на 1."
      ]
    },
    {
      "cell_type": "code",
      "source": [
        "count = np.count_nonzero(data[:, 1] == 0)\n",
        "print(count)\n",
        "data[:, 1] = np.where(data[:, 1] == 0, 1, data[:, 1])\n",
        "count = np.count_nonzero(data[:, 1] == 0)\n",
        "print(count)"
      ],
      "metadata": {
        "colab": {
          "base_uri": "https://localhost:8080/"
        },
        "id": "EGIIprJ93TF3",
        "outputId": "48692a96-b463-4078-9c5f-8fdfaff537ed"
      },
      "execution_count": null,
      "outputs": [
        {
          "output_type": "stream",
          "name": "stdout",
          "text": [
            "479\n",
            "0\n"
          ]
        }
      ]
    },
    {
      "cell_type": "markdown",
      "metadata": {
        "id": "0bQoy8_1xKfy"
      },
      "source": [
        "5. Посчитайте, сколько уникальных рецептов находится в датасете."
      ]
    },
    {
      "cell_type": "code",
      "source": [
        "arr = np.unique(data[:, 1:])\n",
        "print(len(arr))"
      ],
      "metadata": {
        "colab": {
          "base_uri": "https://localhost:8080/"
        },
        "id": "DC6_FidC3W0S",
        "outputId": "1d78ce45-a8db-48ac-87bc-cb08c36fef63"
      },
      "execution_count": null,
      "outputs": [
        {
          "output_type": "stream",
          "name": "stdout",
          "text": [
            "655\n"
          ]
        }
      ]
    },
    {
      "cell_type": "markdown",
      "metadata": {
        "id": "_KiO2iKnxKfy"
      },
      "source": [
        "6. Сколько и каких различных значений кол-ва ингредиентов присутвует в рецептах из датасета?"
      ]
    },
    {
      "cell_type": "code",
      "source": [
        "ingredient_counts = data[:, 2]\n",
        "\n",
        "unique_values, value_counts = np.unique(ingredient_counts, return_counts=True)\n",
        "\n",
        "print(\"Различные значения количества ингредиентов и их частота встречаемости:\")\n",
        "for value, count in zip(unique_values, value_counts):\n",
        "    print(f\"Количество ингредиентов: {value}, Частота встречаемости: {count}\")\n"
      ],
      "metadata": {
        "colab": {
          "base_uri": "https://localhost:8080/"
        },
        "id": "Kc1jyEBt4SqX",
        "outputId": "2dd47e93-2a85-475c-a153-4b5a5acbfbe7"
      },
      "execution_count": null,
      "outputs": [
        {
          "output_type": "stream",
          "name": "stdout",
          "text": [
            "Различные значения количества ингредиентов и их частота встречаемости:\n",
            "Количество ингредиентов: 1, Частота встречаемости: 13\n",
            "Количество ингредиентов: 2, Частота встречаемости: 926\n",
            "Количество ингредиентов: 3, Частота встречаемости: 2895\n",
            "Количество ингредиентов: 4, Частота встречаемости: 5515\n",
            "Количество ингредиентов: 5, Частота встречаемости: 7913\n",
            "Количество ингредиентов: 6, Частота встречаемости: 9376\n",
            "Количество ингредиентов: 7, Частота встречаемости: 10628\n",
            "Количество ингредиентов: 8, Частота встречаемости: 10951\n",
            "Количество ингредиентов: 9, Частота встречаемости: 10585\n",
            "Количество ингредиентов: 10, Частота встречаемости: 9591\n",
            "Количество ингредиентов: 11, Частота встречаемости: 8297\n",
            "Количество ингредиентов: 12, Частота встречаемости: 6605\n",
            "Количество ингредиентов: 13, Частота встречаемости: 4997\n",
            "Количество ингредиентов: 14, Частота встречаемости: 3663\n",
            "Количество ингредиентов: 15, Частота встречаемости: 2595\n",
            "Количество ингредиентов: 16, Частота встречаемости: 1767\n",
            "Количество ингредиентов: 17, Частота встречаемости: 1246\n",
            "Количество ингредиентов: 18, Частота встречаемости: 790\n",
            "Количество ингредиентов: 19, Частота встречаемости: 573\n",
            "Количество ингредиентов: 20, Частота встречаемости: 376\n",
            "Количество ингредиентов: 21, Частота встречаемости: 217\n",
            "Количество ингредиентов: 22, Частота встречаемости: 161\n",
            "Количество ингредиентов: 23, Частота встречаемости: 105\n",
            "Количество ингредиентов: 24, Частота встречаемости: 69\n",
            "Количество ингредиентов: 25, Частота встречаемости: 50\n",
            "Количество ингредиентов: 26, Частота встречаемости: 28\n",
            "Количество ингредиентов: 27, Частота встречаемости: 16\n",
            "Количество ингредиентов: 28, Частота встречаемости: 16\n",
            "Количество ингредиентов: 29, Частота встречаемости: 12\n",
            "Количество ингредиентов: 30, Частота встречаемости: 12\n",
            "Количество ингредиентов: 31, Частота встречаемости: 3\n",
            "Количество ингредиентов: 32, Частота встречаемости: 1\n",
            "Количество ингредиентов: 33, Частота встречаемости: 2\n",
            "Количество ингредиентов: 34, Частота встречаемости: 1\n",
            "Количество ингредиентов: 35, Частота встречаемости: 3\n",
            "Количество ингредиентов: 37, Частота встречаемости: 1\n",
            "Количество ингредиентов: 39, Частота встречаемости: 1\n"
          ]
        }
      ]
    },
    {
      "cell_type": "markdown",
      "metadata": {
        "id": "4bK2SKgcxKfy"
      },
      "source": [
        "7. Создайте версию массива, содержащую информацию только о рецептах, состоящих не более чем из 5 ингредиентов."
      ]
    },
    {
      "cell_type": "code",
      "source": [
        "filtered_data = data[data[:, 2] <= 5]\n",
        "print(filtered_data)"
      ],
      "metadata": {
        "colab": {
          "base_uri": "https://localhost:8080/"
        },
        "id": "5EFDAIG34elI",
        "outputId": "dbf0955d-bedf-4eae-839b-f49a5c5a4e7d"
      },
      "execution_count": null,
      "outputs": [
        {
          "output_type": "stream",
          "name": "stdout",
          "text": [
            "[[446597     15      5]\n",
            " [204134      5      3]\n",
            " [ 25623      6      4]\n",
            " ...\n",
            " [ 52088     60      5]\n",
            " [128811     15      4]\n",
            " [370915      5      4]]\n"
          ]
        }
      ]
    },
    {
      "cell_type": "markdown",
      "metadata": {
        "id": "wujiI3FrxKfy"
      },
      "source": [
        "8. Для каждого рецепта посчитайте, сколько в среднем ингредиентов приходится на одну минуту рецепта. Найдите максимальное значение этой величины для всего датасета"
      ]
    },
    {
      "cell_type": "code",
      "source": [
        "count_recipes = data[:, 2] / data[:, 1]\n",
        "ans_8 = np.max(data[:, 2] / data[:, 1])\n",
        "ans_8"
      ],
      "metadata": {
        "colab": {
          "base_uri": "https://localhost:8080/"
        },
        "id": "-JSRyQTD7Zu0",
        "outputId": "e5cd3674-c76a-4a8b-cf22-0e9210e6ed86"
      },
      "execution_count": null,
      "outputs": [
        {
          "output_type": "execute_result",
          "data": {
            "text/plain": [
              "24.0"
            ]
          },
          "metadata": {},
          "execution_count": 137
        }
      ]
    },
    {
      "cell_type": "markdown",
      "metadata": {
        "id": "i-qnBHgTxKfy"
      },
      "source": [
        "9. Вычислите среднее количество ингредиентов для топ-100 рецептов с наибольшей продолжительностью"
      ]
    },
    {
      "cell_type": "code",
      "source": [
        "ans_9 = data[data[:, 1].argsort()][::-1]\n",
        "answer_9 = np.mean(ans_9[:100, 2])\n",
        "answer_9"
      ],
      "metadata": {
        "colab": {
          "base_uri": "https://localhost:8080/"
        },
        "id": "x_6X15oS7dm4",
        "outputId": "48ecd4cb-aad1-400b-804d-89fe02146a59"
      },
      "execution_count": null,
      "outputs": [
        {
          "output_type": "execute_result",
          "data": {
            "text/plain": [
              "6.61"
            ]
          },
          "metadata": {},
          "execution_count": 138
        }
      ]
    },
    {
      "cell_type": "markdown",
      "metadata": {
        "id": "Rfq5-emWxKfy"
      },
      "source": [
        "10. Выберите случайным образом и выведите информацию о 10 различных рецептах"
      ]
    },
    {
      "cell_type": "code",
      "source": [
        "print(*random.choices(data, k = 10), sep=\"\\n\")"
      ],
      "metadata": {
        "colab": {
          "base_uri": "https://localhost:8080/"
        },
        "id": "kdyZhd5j7g7i",
        "outputId": "cfd73000-af82-49fe-8d8c-0f6a893ab70a"
      },
      "execution_count": null,
      "outputs": [
        {
          "output_type": "stream",
          "name": "stdout",
          "text": [
            "[356320     45     10]\n",
            "[449087     35     14]\n",
            "[170440     15     12]\n",
            "[523246     15      8]\n",
            "[287105     35      8]\n",
            "[36548   135     8]\n",
            "[284947     25     11]\n",
            "[262945     60     13]\n",
            "[367853     10      8]\n",
            "[411147    140      8]\n"
          ]
        }
      ]
    },
    {
      "cell_type": "markdown",
      "metadata": {
        "id": "hDhlKVRBxKfz"
      },
      "source": [
        "11. Выведите процент рецептов, кол-во ингредиентов в которых меньше среднего."
      ]
    },
    {
      "cell_type": "code",
      "source": [
        "average_11 = np.mean(data[:,2] < np.mean(data[:, 2]))*100\n",
        "average_11"
      ],
      "metadata": {
        "colab": {
          "base_uri": "https://localhost:8080/"
        },
        "id": "MMX1jjzo7mNF",
        "outputId": "30118cdd-6bb9-4e4b-e195-6cdde810e403"
      },
      "execution_count": null,
      "outputs": [
        {
          "output_type": "execute_result",
          "data": {
            "text/plain": [
              "58.802"
            ]
          },
          "metadata": {},
          "execution_count": 146
        }
      ]
    },
    {
      "cell_type": "markdown",
      "metadata": {
        "id": "Z0A8ftt_xKfz"
      },
      "source": [
        "12. Назовем \"простым\" такой рецепт, длительность выполнения которого не больше 20 минут и кол-во ингредиентов в котором не больше 5. Создайте версию датасета с дополнительным столбцом, значениями которого являются 1, если рецепт простой, и 0 в противном случае."
      ]
    },
    {
      "cell_type": "code",
      "source": [
        "simple_recipe = (data[:, 1] <= 20) & (data[:, 2] <= 5)\n",
        "data = np.column_stack((data, simple_recipe))\n",
        "print(data)\n"
      ],
      "metadata": {
        "colab": {
          "base_uri": "https://localhost:8080/"
        },
        "id": "xHOkQG8w7o-K",
        "outputId": "923ee230-eee7-49fe-e1d4-32b557cc8919"
      },
      "execution_count": null,
      "outputs": [
        {
          "output_type": "stream",
          "name": "stdout",
          "text": [
            "[[127244     60     16      0]\n",
            " [ 23891     25      7      0]\n",
            " [ 94746     10      6      0]\n",
            " ...\n",
            " [498432     65     15      0]\n",
            " [370915      5      4      1]\n",
            " [ 81993     65     14      0]]\n"
          ]
        }
      ]
    },
    {
      "cell_type": "markdown",
      "metadata": {
        "id": "y55m5yD9xKfz"
      },
      "source": [
        "13. Выведите процент \"простых\" рецептов в датасете"
      ]
    },
    {
      "cell_type": "code",
      "source": [
        "arr = data[data[:, -1] == 1]\n",
        "print(len(arr)/len(data))"
      ],
      "metadata": {
        "colab": {
          "base_uri": "https://localhost:8080/"
        },
        "id": "qZptQz4u7uWT",
        "outputId": "5f97bdb3-10ff-4b00-d4e6-9f386a17075f"
      },
      "execution_count": null,
      "outputs": [
        {
          "output_type": "stream",
          "name": "stdout",
          "text": [
            "0.00013\n"
          ]
        }
      ]
    },
    {
      "cell_type": "markdown",
      "metadata": {
        "id": "EZRuxU20xKfz"
      },
      "source": [
        "14. Разделим рецепты на группы по следующему правилу. Назовем рецепты короткими, если их продолжительность составляет менее 10 минут; стандартными, если их продолжительность составляет более 10, но менее 20 минут; и длинными, если их продолжительность составляет не менее 20 минут. Создайте трехмерный массив, где нулевая ось отвечает за номер группы (короткий, стандартный или длинный рецепт), первая ось - за сам рецепт и вторая ось - за характеристики рецепта. Выберите максимальное количество рецептов из каждой группы таким образом, чтобы было возможно сформировать трехмерный массив. Выведите форму полученного массива."
      ]
    },
    {
      "cell_type": "code",
      "execution_count": null,
      "metadata": {
        "colab": {
          "base_uri": "https://localhost:8080/"
        },
        "id": "APlVZg-fxKfz",
        "outputId": "f42562e5-747b-4619-cb15-bf7df24a18c2"
      },
      "outputs": [
        {
          "output_type": "stream",
          "name": "stdout",
          "text": [
            "(3, 79751, 3)\n"
          ]
        }
      ],
      "source": [
        "recipes = []\n",
        "for row in data:\n",
        "    recipes.append(row)\n",
        "\n",
        "# Определение максимального количества рецептов из каждой группы\n",
        "short_recipes = 0\n",
        "standard_recipes = 0\n",
        "long_recipes = 0\n",
        "\n",
        "for recipe in recipes:\n",
        "    duration = int(recipe[1])\n",
        "    if duration < 10:\n",
        "        short_recipes += 1\n",
        "    elif duration < 20:\n",
        "        standard_recipes += 1\n",
        "    else:\n",
        "        long_recipes += 1\n",
        "\n",
        "# Создание трехмерного массива\n",
        "array = np.zeros((3, max(short_recipes, standard_recipes, long_recipes), len(recipes[0])))\n",
        "\n",
        "# Вывод формы полученного массива\n",
        "print(array.shape)\n"
      ]
    }
  ],
  "metadata": {
    "kernelspec": {
      "display_name": "Python 3 (ipykernel)",
      "language": "python",
      "name": "python3"
    },
    "language_info": {
      "codemirror_mode": {
        "name": "ipython",
        "version": 3
      },
      "file_extension": ".py",
      "mimetype": "text/x-python",
      "name": "python",
      "nbconvert_exporter": "python",
      "pygments_lexer": "ipython3",
      "version": "3.9.12"
    },
    "colab": {
      "provenance": []
    }
  },
  "nbformat": 4,
  "nbformat_minor": 0
}